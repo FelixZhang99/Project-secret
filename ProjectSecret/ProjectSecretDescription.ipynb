{
 "cells": [
  {
   "cell_type": "markdown",
   "metadata": {},
   "source": [
    "Description for prject secret:\n",
    "Project secret is a prgram that allowes to encrpt and compress strings into lines that only computer can understand, the program will also provide a key to decrpt and depress it.\n",
    "\n",
    "The encrption uses Huffman algorithm. Here is the explanation for Huffman algorithm:\n",
    "\n",
    "Simple version:\n",
    "When computer stores text, the length of each character in bytes is the same. Huffman algorithm creates a table for storing characters so that more frequent used characters takes smaller space and less frequent used characters takes longer space, so that the total size of the text is reduced and the text is translated into something looks like garbage characters. These garbage characters can only be depress with the table that is created when compress.\n",
    "\n",
    "Complicated version:\n",
    "Huffman algorithm first counts the number of occurances of all characters that appears in the string, then set up an ordered list of node of characters according to their occurances. Each node containing the information of the character and its occurance. After that, takes two nodes with the least occurance out and create a parent node whose two children are these two nodes, just like this:\n",
    "\n",
    "                  parent\n",
    "        No character, occurance = left + right\n",
    "        /                     \\\n",
    "     Left Child                Right Child\n",
    "    Some character(if it is not     Some character(if it is not\n",
    "    a parent of other nodes)         a parent of other nodes)\n",
    "    occurance = left                occurance = right\n",
    "\n",
    "The new node have the occurance of the sum of its children's occurance. Insert the new node into the list and sort it again. Repeat the above step until there is only one element in the list. That only element is the parent node of the entire tree. So that every character is a child node of that element. This way characters with more occurances will be on top of the tree and characters with less occurance will be at the botton of the tree. Then iterate through the tree form a binary table for translation between characters and their binary code(The position of the character determine the binary code, go left is a '0' and go right is a '1'. Such as '1001' means go left once, then go right twice and then go left once). When we have the table, use it to translate every character in the string into binary code(In python, binary is hard to present because it is not assembly based, therefore I used a string to demonstrate binary code). Then we translate the binary code into a new string(Again, ascii value is hard to present in python, therefore I used unicorn characters instead, which is less straightforward). The table is the key to solve the new string into original string with the same mean but opposite direction.\n",
    "\n",
    "WARRENING: Unicorn code can be messy if put into .txt file, therefore causing defects in translation."
   ]
  },
  {
   "cell_type": "markdown",
   "metadata": {},
   "source": [
    "Usage:"
   ]
  },
  {
   "cell_type": "code",
   "execution_count": 5,
   "metadata": {},
   "outputs": [],
   "source": [
    "from my_module import Secret"
   ]
  },
  {
   "cell_type": "code",
   "execution_count": 6,
   "metadata": {},
   "outputs": [
    {
     "name": "stdout",
     "output_type": "stream",
     "text": [
      "\r",
      "t\u0017,;r-{v\u0007D?d\u001b@\\d$Rw3|3b\u001fdY\u000ftrp8C?\f",
      "xGy\u0013]I@2\u00107FLwGaZ.KmNauk\r",
      "XySKdNE\\yHAg\u0000{\u0005}7eZ,&\"\u0018W\u0007\u0000{\u0005}7s`\u000eyHFm\u0019o\u0007\u0005G\u0015]Kek\u0007u_\u000fC4]q)gpvRv|yHFfWV\u001d",
      "g>\u001a93ab9{uNaq\\etsV\u001c",
      "\u001d",
      "_f\"%-Wk\u001e",
      "\u001bea#Zxsg@X.K[SQ7Z7\u0000\f",
      "Z\f",
      "\u0010\n",
      "I am the bone of my sword \n",
      "　　Steel is my body and fire is my blood'\n",
      "　　I have created over a thousand blades \n",
      "　　Unknown to death\n",
      "　　Nor known to life \n",
      "　　Have withstood pain to create many weapons \n",
      "　　Yet these hands will never hold anything \n",
      "　　So, as I pray, Unlimited Blade Works!\n",
      "True\n"
     ]
    }
   ],
   "source": [
    "# This is an example to translate message into secret code\n",
    "text = \"\"\"I am the bone of my sword \n",
    "　　Steel is my body and fire is my blood'\n",
    "　　I have created over a thousand blades \n",
    "　　Unknown to death\n",
    "　　Nor known to life \n",
    "　　Have withstood pain to create many weapons \n",
    "　　Yet these hands will never hold anything \n",
    "　　So, as I pray, Unlimited Blade Works!\"\"\"\n",
    "output = Secret.compress(text)\n",
    "print(output[0])\n",
    "string = Secret.depress(output[0],output[1])\n",
    "print(string)\n",
    "print(text == string)"
   ]
  },
  {
   "cell_type": "code",
   "execution_count": null,
   "metadata": {},
   "outputs": [],
   "source": []
  }
 ],
 "metadata": {
  "kernelspec": {
   "display_name": "Python 3",
   "language": "python",
   "name": "python3"
  },
  "language_info": {
   "codemirror_mode": {
    "name": "ipython",
    "version": 3
   },
   "file_extension": ".py",
   "mimetype": "text/x-python",
   "name": "python",
   "nbconvert_exporter": "python",
   "pygments_lexer": "ipython3",
   "version": "3.6.7"
  }
 },
 "nbformat": 4,
 "nbformat_minor": 2
}
